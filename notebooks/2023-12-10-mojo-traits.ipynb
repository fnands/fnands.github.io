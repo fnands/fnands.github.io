{
 "cells": [
  {
   "cell_type": "markdown",
   "metadata": {},
   "source": [
    "---\n",
    "layout: post\n",
    "title: Mojo 0.6.0, now with traits and better Python like string wrangling.\n",
    "categories: [mojo]\n",
    "excerpt: The (Legendary) 0.6.0 release of the Mojo programming language along with a quick look at the new headline feature, traits \n",
    "---"
   ]
  },
  {
   "cell_type": "markdown",
   "metadata": {},
   "source": [
    "Another month, another Mojo release.  \n",
    "\n",
    "I am busy doing the 2023 edition of the [Advent of Code](https://adventofcode.com/2023) (AoC) in Mojo, and had a few complaints 😅.  \n",
    "If you not familiar with the AoC, it's basically a coding advent calendar that gives you a new coding challenge every day for the first 25 days of December.  \n",
    "\n",
    "In a bit of foreshadowing, I used an AoC 2022 puzzle in my [first post on Mojo](https://fnands.com/mojo-advent-of-code/), which was using Mojo 0.2.1, and it is encouraging to see how far the language has come.  \n",
    "\n",
    "The AoC puzzles are often pretty heavy in string wrangling, a task that Python is pretty strong in, and that Mojo is still somewhat lacking in. \n",
    "One of the features that I found was lacking in Mojo 0.5.0 was the ability to easily split a string as one does in Python.  \n",
    "\n",
    "In the case of the first day, I found myself needing to split a string by newlines, something which you can do trivially in Python by calling `my_string.split('\\n')`. In Mojo 0.5.0 this did not exist and I had to write a struct to implement this functionality. I ended up generalizing it a bit and putting it in a [library](https://github.com/fnands/advent_of_code_2023/blob/main/aoc_lib/string_utils.mojo) as it was super useful for the following days as well.  \n",
    "\n",
    "And then on the fourth of December [Mojo 0.6.0 was released](https://docs.modular.com/mojo/changelog.html#v0.6.0-2023-12-04), which now includes the ability to call `.split()` on a string, as well as a bunch of useful Python methods (`rfind()`, `len()`, `str()`, `int()`). These will definitely help going forward with the AoC challenges. \n",
    "\n",
    "I'll write a rundown of my experience with the AoC in Mojo when I complete all the puzzles, so now on the the spotlighted feature from 0.6.0: traits\n",
    "\n",
    "## Traits in Mojo\n",
    "\n",
    "[Traits](https://en.wikipedia.org/wiki/Trait_(computer_programming)) are a fairly common concept in programming languages, and allow you to add required functionality to a struct if it conforms to this trait. \n",
    "\n",
    "As an example, take the `len()` function that we know and love from Python, and that is also now a part of Mojo. \n",
    "The trait associated with `len()` in Mojo is `Sized`, meaning that any struct conforming to the `Sized` trait is required to have a `__len__()` method that returns an integer size. When the function `len()` is applied to a struct that conforms to `Sized`, the `__len__()` function is called. \n",
    "\n",
    "An example of a struct that conforms to the `Sized` trait is the builtin `String`:"
   ]
  },
  {
   "cell_type": "code",
   "execution_count": 1,
   "metadata": {},
   "outputs": [
    {
     "name": "stdout",
     "output_type": "stream",
     "text": [
      "52\n"
     ]
    }
   ],
   "source": [
    "example_string = \"This is a String and it conforms to the Sized trait.\"\n",
    "\n",
    "print(len(example_string))"
   ]
  },
  {
   "cell_type": "markdown",
   "metadata": {},
   "source": [
    "Additionally, we can then write our own struct that conforms to `Sized`, and as long as it has a method named `__len__()` it will conform to the `Sized` trait (the compiler will let you know if it doesn't): "
   ]
  },
  {
   "cell_type": "code",
   "execution_count": 2,
   "metadata": {},
   "outputs": [],
   "source": [
    "@value\n",
    "struct MySizedStruct(Sized):\n",
    "    var size: Int\n",
    "\n",
    "    fn __len__(self) -> Int:\n",
    "        return self.size\n"
   ]
  },
  {
   "cell_type": "markdown",
   "metadata": {},
   "source": [
    "If we now call `len()` on an instance of this struct it will return the size value: "
   ]
  },
  {
   "cell_type": "code",
   "execution_count": 3,
   "metadata": {},
   "outputs": [
    {
     "name": "stdout",
     "output_type": "stream",
     "text": [
      "10\n"
     ]
    }
   ],
   "source": [
    "sized_struct = MySizedStruct(10)\n",
    "print(len(sized_struct))"
   ]
  },
  {
   "cell_type": "markdown",
   "metadata": {},
   "source": [
    "As a side note, I used the `@value` decorator above which hides a bit of boilerplate code for us. \n",
    "The above initialization is equivalent to: "
   ]
  },
  {
   "cell_type": "code",
   "execution_count": 4,
   "metadata": {},
   "outputs": [],
   "source": [
    "struct MySizedStruct(Sized):\n",
    "    var size: Int\n",
    "\n",
    "    fn __len__(self) -> Int:\n",
    "        return self.size\n",
    "\n",
    "    fn __init__(inout self, size: Int):\n",
    "        self.size = size\n",
    "\n",
    "    fn __copyinit__(inout self, existing: Self):\n",
    "        self.size = existing.size\n",
    "\n",
    "    fn __moveinit__(inout self, owned existing: Self):\n",
    "        self.size = existing.size"
   ]
  },
  {
   "cell_type": "markdown",
   "metadata": {},
   "source": [
    "So `@value` is a pretty useful way to save us a few lines of boilerplate code. \n",
    "\n",
    "I'm still getting used to decorators in Mojo (maybe a good idea to do a post on them in the future). \n",
    "\n",
    "One question I had about traits is how difficult it is to chain them? \n",
    "E.g. what if I have a struct that I want to conform to both `Sized` and `Stringable`, which allows the function `str()` to apply to the struct, and makes it printable? \n",
    "\n",
    "It turns out this is easy; just pass them during as a comma "
   ]
  },
  {
   "cell_type": "code",
   "execution_count": 5,
   "metadata": {},
   "outputs": [
    {
     "name": "stdout",
     "output_type": "stream",
     "text": [
      "11\n"
     ]
    }
   ],
   "source": [
    "@value\n",
    "struct MySizedAndStingableStruct(Sized, Stringable):\n",
    "    var size: Int\n",
    "\n",
    "    fn __len__(self) -> Int:\n",
    "        return self.size\n",
    "\n",
    "    fn __str__(self) -> String:\n",
    "        return str(self.size)\n",
    "\n",
    "sized_and_stringable = MySizedAndStingableStruct(11)\n",
    "print(sized_and_stringable)"
   ]
  },
  {
   "cell_type": "markdown",
   "metadata": {},
   "source": [
    "So it is very simple to add multiple traits. \n",
    "\n",
    "To create our own trait, we only need to define it with a method that conforming structs need to inherit: \n"
   ]
  },
  {
   "cell_type": "code",
   "execution_count": 6,
   "metadata": {},
   "outputs": [],
   "source": [
    "trait Jazzable:\n",
    "    fn jazz(self): ..."
   ]
  },
  {
   "cell_type": "markdown",
   "metadata": {},
   "source": [
    "Here the `...` indicates that nothing is specified yet (needs to be done per struct). \n",
    "It is not possible yet to define a default method, but is apparently coming in the future. \n",
    "\n",
    "Let's create a struct that conforms to Jazzable: "
   ]
  },
  {
   "cell_type": "code",
   "execution_count": 7,
   "metadata": {},
   "outputs": [
    {
     "name": "stdout",
     "output_type": "stream",
     "text": [
      "Jazzing at level 1\n",
      "Jazzing at level 2\n",
      "Jazzing at level 3\n",
      "Jazzing at level 4\n",
      "Jazzing at level 5\n",
      "Jazzing at level 6\n",
      "Jazzing at level 7\n",
      "Jazzing at level 8\n",
      "Jazzing at level 9\n",
      "Jazzing at level 10\n"
     ]
    }
   ],
   "source": [
    "@value\n",
    "struct JazzX(Jazzable):\n",
    "    var jazz_level: Int\n",
    "    \n",
    "    fn jazz(self):\n",
    "        for i in range(self.jazz_level):\n",
    "            print(\"Jazzing at level\", i + 1)\n",
    "\n",
    "ten_jazz = JazzX(10)\n",
    "ten_jazz.jazz()"
   ]
  },
  {
   "cell_type": "markdown",
   "metadata": {},
   "source": [
    "We can also define a function that calls a specific method. An example of this is the `len()` function that calls `__len__()`, we can create our own function that will call `jazz()`:"
   ]
  },
  {
   "cell_type": "code",
   "execution_count": 8,
   "metadata": {},
   "outputs": [
    {
     "name": "stdout",
     "output_type": "stream",
     "text": [
      "Jazzing at level 1\n",
      "Jazzing at level 2\n",
      "Jazzing at level 3\n",
      "Jazzing at level 4\n",
      "Jazzing at level 5\n",
      "Jazzing at level 6\n",
      "Jazzing at level 7\n",
      "Jazzing at level 8\n",
      "Jazzing at level 9\n",
      "Jazzing at level 10\n"
     ]
    }
   ],
   "source": [
    "fn make_it_jazz[T: Jazzable](jazz_struct: T):\n",
    "    jazz_struct.jazz()\n",
    "\n",
    "\n",
    "make_it_jazz(ten_jazz)"
   ]
  },
  {
   "cell_type": "markdown",
   "metadata": {},
   "source": [
    "Additionally, traits can inherit from other traits, and keep the functionality of the parent trait:  "
   ]
  },
  {
   "cell_type": "code",
   "execution_count": 9,
   "metadata": {},
   "outputs": [],
   "source": [
    "trait SuperJazzable(Jazzable):\n",
    "    fn super_jazz(self): ...\n",
    "\n",
    "\n",
    "@value \n",
    "struct SuperJazz(SuperJazzable):\n",
    "    var jazz_level: Int\n",
    "\n",
    "    fn jazz(self):\n",
    "        for i in range(self.jazz_level):\n",
    "            print(\"Jazzing at level\", i + 1)\n",
    "\n",
    "    fn super_jazz(self):\n",
    "        for i in range(self.jazz_level):\n",
    "            print(\"Super Jazzing at level\", (i + 1)*10)\n",
    "    "
   ]
  },
  {
   "cell_type": "markdown",
   "metadata": {},
   "source": [
    "This new struct will have all the methods of `Jazzable`, so `make_it_jazz()` will work: "
   ]
  },
  {
   "cell_type": "code",
   "execution_count": 10,
   "metadata": {},
   "outputs": [
    {
     "name": "stdout",
     "output_type": "stream",
     "text": [
      "Jazzing at level 1\n",
      "Jazzing at level 2\n",
      "Jazzing at level 3\n",
      "Jazzing at level 4\n",
      "Jazzing at level 5\n"
     ]
    }
   ],
   "source": [
    "super_jazz_5 = SuperJazz(5)\n",
    "make_it_jazz(super_jazz_5)"
   ]
  },
  {
   "cell_type": "markdown",
   "metadata": {},
   "source": [
    "And we can define additional functions that will activate the new methods as well: "
   ]
  },
  {
   "cell_type": "code",
   "execution_count": 13,
   "metadata": {},
   "outputs": [
    {
     "name": "stdout",
     "output_type": "stream",
     "text": [
      "Super Jazzing at level 10\n",
      "Super Jazzing at level 20\n",
      "Super Jazzing at level 30\n",
      "Super Jazzing at level 40\n",
      "Super Jazzing at level 50\n"
     ]
    }
   ],
   "source": [
    "fn make_it_super_jazz[T: SuperJazzable](superjazz_struct: T):\n",
    "    superjazz_struct.super_jazz()\n",
    "\n",
    "make_it_super_jazz(super_jazz_5)"
   ]
  },
  {
   "cell_type": "markdown",
   "metadata": {},
   "source": [
    "## Conclusions\n",
    "\n",
    "Traits provide a convenient way of adding functionality to structs, and as you can see they are pretty simple to use. \n",
    "\n",
    "I've never used traits in any other language before, but it does work similarly to generic classes, and feels really familiar, except for the fact that you can't have default behaviour (yet). \n",
    "\n",
    "From what I've seen from Mojo so far, writing structs seems to be a pretty core part of how Mojo is supposed to be used, so I guess I better get used to it. \n",
    "\n"
   ]
  },
  {
   "cell_type": "markdown",
   "metadata": {},
   "source": []
  }
 ],
 "metadata": {
  "kernelspec": {
   "display_name": "Mojo",
   "language": "mojo",
   "name": "mojo-jupyter-kernel"
  },
  "language_info": {
   "codemirror_mode": {
    "name": "mojo"
   },
   "file_extension": ".mojo",
   "mimetype": "text/x-mojo",
   "name": "mojo"
  }
 },
 "nbformat": 4,
 "nbformat_minor": 2
}
