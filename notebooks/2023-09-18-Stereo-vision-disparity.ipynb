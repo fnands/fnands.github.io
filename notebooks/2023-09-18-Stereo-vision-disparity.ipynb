{
 "cells": [
  {
   "attachments": {},
   "cell_type": "markdown",
   "id": "c210b514",
   "metadata": {},
   "source": [
    "---\n",
    "layout: post\n",
    "title: Stereo vision and disparity maps (in Julia)\n",
    "categories: [julia, stereo]\n",
    "excerpt: An introduction into basic stereo vision, with a simple block matching algorithm written from scratch in Julia. \n",
    "---\n",
    "\n",
    "\n",
    "I've been working a lot recently with stereo vision and wanted to go through the basics of how disparity is calculated. I'm partially doing this as an excuse to get better at Julia (v1.9.3 used here).  \n",
    "\n",
    "\n",
    "You can view the notebook for this blog post on Github: [![View On GitHub](../assets/github.svg)](https://github.com/fnands/fnands.github.io/blob/main/notebooks/2023-09-18-Stereo-vision-disparity.ipynb)\n",
    "\n",
    "## Introduction\n",
    "\n",
    "In much the same way that we as humans can have depth perception by sensing the difference in the images we see between our left and right eyes, we can calculate depth from a pair of images taken from different locations, called a stereo pair.   \n",
    "\n",
    "If we know the positions of out cameras, then we can use matching points in our two images to estimate how far away from the camera those points are. \n",
    "\n",
    "Taking a look at the image below (from [OpenCV](https://docs.opencv.org/4.x/dd/d53/tutorial_py_depthmap.html)):"
   ]
  },
  {
   "attachments": {},
   "cell_type": "markdown",
   "id": "dabbddc1-1b71-43b2-9533-9f308bf665ed",
   "metadata": {},
   "source": [
    "![https://docs.opencv.org/4.x/dd/d53/tutorial_py_depthmap.html](../images/dispairity_block_julia/stereo_depth.jpg)"
   ]
  },
  {
   "attachments": {},
   "cell_type": "markdown",
   "id": "76d6dea4-25a3-46f9-91cd-d51617ab7986",
   "metadata": {},
   "source": [
    "If we have two identical cameras, at points $$O$$ and $$O'$$ at a distance $$B$$ from each other, with focal length $$f$$, we can calculate the distance ($$Z$$) to object $$X$$ by using the *disparity* between where the object $$X$$ appears in the *left* image ($$x$$) and where it appears in the *right* image ($$x'$$).  \n",
    "\n",
    "In this simple case, the relation between disparity and distance is simply:\n",
    "\n",
    "\\begin{equation}\n",
    "disparity = x - x' = \\frac{Bf}{Z}\n",
    "\\end{equation}\n",
    "\n",
    "If we know $$B$$ an $$f$$, then we can rearrange this to give us distance as a function of disparity: \n",
    "\n",
    "\\begin{equation}\n",
    "Z = \\frac{Bf}{x - x'}\n",
    "\\end{equation}\n",
    "\n",
    "You might notice that in case the disparity is zero, you will have an undefined result. This is just due to the fact that in this case the cameras are pointing in parallel, so in principle a disparity of zero should not be possible.   \n",
    "\n",
    "The general case is more complicated, but we will focus on this simple setup for now.  \n",
    "\n",
    "We can define the function as: "
   ]
  },
  {
   "cell_type": "code",
   "execution_count": null,
   "id": "c5c84144-64d8-4979-b5ff-89451ff2b4c0",
   "metadata": {},
   "outputs": [],
   "source": [
    "function distance_from_disparity(B, f, disparity)\n",
    "    B*f/disparity\n",
    "end"
   ]
  },
  {
   "attachments": {},
   "cell_type": "markdown",
   "id": "6fe48b88-2ff7-4987-b8dd-79959ccfb5d1",
   "metadata": {},
   "source": [
    "Where $$B$$ and $$disparity$$ are measured in pixels, and $$f$$ is measured in centimeters. \n",
    "\n",
    "There is an inverse relation between distance and disparity: "
   ]
  },
  {
   "cell_type": "code",
   "execution_count": null,
   "id": "531bef2a-acaf-41a6-b33d-6890cf8547d4",
   "metadata": {},
   "outputs": [],
   "source": [
    "using Plots\n",
    "\n",
    "disparities = range(1, 50, length=50)\n",
    "distances = distance_from_disparity.(2000, 0.1, disparities)\n",
    "\n",
    "plot(disparities, distances, label=\"Distance [cm]\")\n",
    "xlabel!(\"Disparity\")\n",
    "ylabel!(\"Distance [cm]\")"
   ]
  },
  {
   "attachments": {},
   "cell_type": "markdown",
   "id": "0aca1843-510f-46fa-9c68-73adb3c72f45",
   "metadata": {},
   "source": [
    "So once we have a disparity, it's relatively straightforward to get a distance. But how do we find disparities? \n",
    "\n",
    "## Disparity maps\n",
    "\n",
    "We usually represent the disparities for a given pair of images as a *disparity map*, which is an array with the same dimensions as (one of) your images, but with disparity values for each pixel. \n",
    "\n",
    "In principle, this is a two-dimensional problem, as an object might be matched to a point that has both a horizontal and vertical shift, but luckily, you can always find a transformation to turn this into a one dimensional problem.  \n",
    "\n",
    "The cartoon below illustrates what a disparity map might look like: \n",
    "![Own work](../images/dispairity_block_julia/disparity_cartoon.png)\n",
    "\n",
    "\n",
    "Above, we calculate the disparity with respect to the right image (you can do it with respect to the left image as well), and as you can see the disparity map tells us how many pixels to the right each object shifted in the left image vs the right image.  \n",
    "\n",
    "\n",
    "For a set of images (taken from the [Middlebury Stereo Datasets](https://vision.middlebury.edu/stereo/data/)):  \n",
    "![https://vision.middlebury.edu/stereo/eval/newEval/tsukuba/](../images/dispairity_block_julia/im3.png) ![https://vision.middlebury.edu/stereo/eval/newEval/tsukuba/](../images/dispairity_block_julia/im4.png)   \n",
    "\n",
    "The corresponding disparity map can be visualized as follows:   \n",
    "\n",
    "![https://vision.middlebury.edu/stereo/eval/newEval/tsukuba/](../images/dispairity_block_julia/groundtruth.png) \n",
    "\n",
    "With darker pixels having lower disparity values, and brighter pixels having higher disparity values, meaning the dark objects are far away from the cameras, while the bright ones are close.   \n",
    "\n",
    "The ground truth disparity as shown above is usually calculated from [LiDAR](https://en.wikipedia.org/wiki/Lidar) or some other accurate method, and our goal is to get as close as possible to those values using only the images above. "
   ]
  },
  {
   "attachments": {},
   "cell_type": "markdown",
   "id": "c53e2252-c003-4088-862a-fca7fab0804d",
   "metadata": {},
   "source": [
    "## A naive approach\n",
    "\n",
    "So let's try and calculate disparity for the images above.   \n",
    "There are many, many approaches to calculating disparity, but let us begin with the most simple approach we can think of.   \n",
    "As a start, let us go through each pixel in the right image, and for that pixel, try and find the most similar pixel in the left image. \n",
    "\n",
    "So let us try and take the squared difference between pixels values as our similarity metric.\n",
    "As we are going to be doing the same thing for every row of pixels, we are just going to define a function that does the basic logic, and then apply the same function to every case. "
   ]
  },
  {
   "cell_type": "code",
   "execution_count": null,
   "id": "b9aba32b-17e5-44a1-8015-70a280160609",
   "metadata": {},
   "outputs": [],
   "source": [
    "function smallest_diff(pixel, row, metric)\n",
    "\n",
    "    disparity_candidates = metric.(pixel, row)\n",
    "    # Minus one as Julia counts from 1\n",
    "    argmin(disparity_candidates) - 1\n",
    "end"
   ]
  },
  {
   "attachments": {},
   "cell_type": "markdown",
   "id": "d6310819-2ad5-43d1-a339-31387f3ae54b",
   "metadata": {},
   "source": [
    "Let's define a distance metric as the squared distance:"
   ]
  },
  {
   "cell_type": "code",
   "execution_count": null,
   "id": "ada3e93e-732b-4130-8506-a1a371026eca",
   "metadata": {},
   "outputs": [],
   "source": [
    "squared_difference = (x, y) -> sum((x-y).^2)"
   ]
  },
  {
   "attachments": {},
   "cell_type": "markdown",
   "id": "4c30074e-6b1b-411b-80e6-c3fd1cd411af",
   "metadata": {},
   "source": [
    "And as a test case let's create the cartoon image we had above: "
   ]
  },
  {
   "cell_type": "code",
   "execution_count": null,
   "id": "5f9ff00a-df5b-4340-a030-ffc303e7823e",
   "metadata": {},
   "outputs": [],
   "source": [
    "left_image = ones(Float64, (8, 8))\n",
    "right_image = ones(Float64, (8, 8))\n",
    "disparity = ones(UInt8, (8, 8))\n",
    "\n",
    "right_image[2, 1] = 0\n",
    "right_image[2, 2] = 0\n",
    "right_image[2, 3] = 0\n",
    "right_image[2, 6] = 0\n",
    "right_image[2, 7] = 0\n",
    "right_image[2, 8] = 0\n",
    "\n",
    "left_image[7, 1] = 0\n",
    "left_image[7, 2] = 0\n",
    "left_image[7, 3] = 0\n",
    "left_image[5, 6] = 0\n",
    "left_image[5, 7] = 0\n",
    "left_image[5, 8] = 0\n"
   ]
  },
  {
   "cell_type": "code",
   "execution_count": null,
   "id": "2ebe3b48-f374-4c6f-95c7-273f3bd96abe",
   "metadata": {},
   "outputs": [],
   "source": [
    "Gray.(left_image')"
   ]
  },
  {
   "cell_type": "code",
   "execution_count": null,
   "id": "566581ca-3bd6-42f2-ba4e-3b7e346475a4",
   "metadata": {},
   "outputs": [],
   "source": [
    "Gray.(right_image')"
   ]
  },
  {
   "attachments": {},
   "cell_type": "markdown",
   "id": "3c535d1c",
   "metadata": {},
   "source": [
    "Now we can try and match pixels in the right image to pixels in the left image. "
   ]
  },
  {
   "cell_type": "code",
   "execution_count": null,
   "id": "c0c97fa0-dc0c-4a8f-95b6-ce6f90f472cb",
   "metadata": {},
   "outputs": [],
   "source": [
    "# NOTE: Julia is column major, not row major like Python or C/C++, \n",
    "# so this looping is not optimal. But I'm going for clarity, not speed. \n",
    "for i in range(1, size(right_image)[1])\n",
    "    for j in range(1, size(right_image)[2])\n",
    "        disparity[j, i] = max(smallest_diff(right_image[j, i], left_image[j:end, i], squared_difference), 1)\n",
    "    end\n",
    "end\n",
    "    "
   ]
  },
  {
   "attachments": {},
   "cell_type": "markdown",
   "id": "ec469a8c-6bcc-4382-adc7-bebda5871d08",
   "metadata": {},
   "source": [
    "So how did we do? "
   ]
  },
  {
   "cell_type": "code",
   "execution_count": null,
   "id": "486b0682-45d3-4987-9c8c-4a3372e2b9ba",
   "metadata": {},
   "outputs": [],
   "source": [
    "Gray.(disparity'/5)"
   ]
  },
  {
   "attachments": {},
   "cell_type": "markdown",
   "id": "6c67f2cd-3530-462d-af23-e14be445bae9",
   "metadata": {},
   "source": [
    "So the toy example works! The top line, which moved more pixels, shows up brighter (i.e. larger disparity values), and the lower line is dimmer. \n",
    "\n",
    "\n",
    "\n",
    "\n",
    "So let's move on to real images. We'll start with the example case above, but for simplicity we'll stick to grayscale at first: "
   ]
  },
  {
   "cell_type": "code",
   "execution_count": null,
   "id": "adb06325-0931-4ed5-93a5-2970de602568",
   "metadata": {},
   "outputs": [],
   "source": [
    "using Images, FileIO\n",
    "\n",
    "tsukuba_left_gray = Gray.(load(\"../images/dispairity_block_julia/im3.png\"))\n",
    "tsukuba_right_gray = Gray.(load(\"../images/dispairity_block_julia/im4.png\"))\n",
    "\n",
    "\n",
    "tsukuba_right_gray"
   ]
  },
  {
   "cell_type": "code",
   "execution_count": null,
   "id": "d7a0d0ad-9d99-4a53-9efa-129f2af8b642",
   "metadata": {},
   "outputs": [],
   "source": [
    "\"\"\"\n",
    "Iterrate over the rows of the right image. \n",
    "For each row, find the most similar pixel in the left image and return the difference in location for them (disparity). \n",
    "The similarity is defined by the provided metric. \n",
    "\"\"\"\n",
    "function pixel_match(left_image, right_image, metric, max_disp)\n",
    "\n",
    "    num_rows = size(right_image)[2]\n",
    "    num_cols = size(right_image)[3]\n",
    "\n",
    "    disparity = zeros((num_rows, num_cols))\n",
    "    for i in range(1, num_rows)\n",
    "        for j in range(1, num_cols)\n",
    "            terminator = min(j+max_disp, num_cols)\n",
    "            pixel = right_image[:, i, j]\n",
    "            row = left_image[:, i, j:terminator]\n",
    "            \n",
    "            disparity[i, j] = max(smallest_diff(pixel, row, metric), 1)\n",
    "        end\n",
    "    end\n",
    "\n",
    "    disparity\n",
    "end"
   ]
  },
  {
   "attachments": {},
   "cell_type": "markdown",
   "id": "4739b05d",
   "metadata": {},
   "source": [
    "Redefining `smallest_diff` slightly... "
   ]
  },
  {
   "cell_type": "code",
   "execution_count": null,
   "id": "96e841b1",
   "metadata": {},
   "outputs": [],
   "source": [
    "function smallest_diff(pixel, row, metric)\n",
    "    disparity_candidates = metric.(pixel, row)\n",
    "    # Minus one as Julia counts from 1\n",
    "    argmin(disparity_candidates)[2] - 1\n",
    "end"
   ]
  },
  {
   "cell_type": "code",
   "execution_count": null,
   "id": "9865ca13-7cf4-4076-875b-8e37ba67c0d5",
   "metadata": {},
   "outputs": [],
   "source": [
    "# Transform images to Float64 to avoid integer overflow when calculating metric. \n",
    "# Reshape to 3 dim array with 1 channel. Julia is channel first\n",
    "array_size = (1, size(tsukuba_left_gray)...,)\n",
    "tsukuba_left_gray_float = reshape(Float64.(tsukuba_left_gray), array_size)\n",
    "tsukuba_right_gray_float = reshape(Float64.(tsukuba_right_gray), array_size)\n",
    "\n",
    "\n",
    "tsukuba_disparity_gray = pixel_match(tsukuba_left_gray_float, tsukuba_right_gray_float,  squared_difference, 20);"
   ]
  },
  {
   "attachments": {},
   "cell_type": "markdown",
   "id": "74dcf93d-8187-4132-a466-9f4acc198344",
   "metadata": {},
   "source": [
    "So let's see how we did?"
   ]
  },
  {
   "cell_type": "code",
   "execution_count": null,
   "id": "1d886334-d7ee-4af0-8abf-4cbb5aee61c2",
   "metadata": {},
   "outputs": [],
   "source": [
    "max_plot_disp = 15\n",
    "Gray.(tsukuba_disparity_gray / max_plot_disp)"
   ]
  },
  {
   "attachments": {},
   "cell_type": "markdown",
   "id": "0e91ab87-f98a-4ff3-9ac1-1ba1ce79734d",
   "metadata": {},
   "source": [
    "Looking at the predicted disparity, we can see there is some vague resemblance to the input image, but we're still pretty far from the target: ![https://vision.middlebury.edu/stereo/eval/newEval/tsukuba/](../images/dispairity_block_julia/groundtruth.png) \n",
    "\n",
    "A significant problem seems to be erroneous matches, especially in the background. \n",
    "\n",
    "As you can imagine, we are only comparing single channel pixels values, and it's very likely that we might just find a better match by chance. In grayscale we are only matching pixel intensity, and we have no idea whether something is bright green, or bright red. \n",
    "\n",
    "So let's try and improve the odds of a good match by adding colour. "
   ]
  },
  {
   "cell_type": "code",
   "execution_count": null,
   "id": "a5fb55c6-c364-4401-a247-e1200f7bab3e",
   "metadata": {},
   "outputs": [],
   "source": [
    "tsukuba_left_rgb = load(\"../images/dispairity_block_julia/im3.png\")\n",
    "tsukuba_right_rgb = load(\"../images/dispairity_block_julia/im4.png\")\n",
    " \n",
    "\n",
    "tsukuba_left_rgb"
   ]
  },
  {
   "cell_type": "code",
   "execution_count": null,
   "id": "4cf37f22-c229-462b-8a55-e17fd8f5622c",
   "metadata": {},
   "outputs": [],
   "source": [
    "tsukuba_left_rgb_float = Float64.(channelview(tsukuba_left_rgb))\n",
    "tsukuba_right_rgb_float = Float64.(channelview(tsukuba_right_rgb))\n",
    "tsukuba_disparity_rgb = pixel_match(tsukuba_left_rgb_float, tsukuba_right_rgb_float,  squared_difference, 20);"
   ]
  },
  {
   "cell_type": "code",
   "execution_count": null,
   "id": "5be0664f-9239-4b59-99a2-647e901c8f64",
   "metadata": {},
   "outputs": [],
   "source": [
    "Gray.(tsukuba_disparity_rgb / max_plot_disp)"
   ]
  },
  {
   "attachments": {},
   "cell_type": "markdown",
   "id": "8296f976-b5b1-443a-a8e0-5a15a3888440",
   "metadata": {},
   "source": [
    "So, a slight improvement! There seem to be fewer random matches in the background, but still not that close to the desired outcome. \n",
    "\n",
    "Is there more we can do? "
   ]
  },
  {
   "attachments": {},
   "cell_type": "markdown",
   "id": "134a47b2-78f7-40b1-adf9-f56751a6058e",
   "metadata": {},
   "source": [
    "## Block matching\n",
    "\n",
    "The obvious downside of the naive approach above is that it only ever looks at one pixel (in each image) at a time.  \n",
    "That's not a lot of information, and also not how we intuitively match objects.   \n",
    "\n",
    "Look at the image below. Can you guess the best match for the pixel in the row of pixels below it? \n",
    "\n",
    "![Own work](../images/dispairity_block_julia/pixel_match.png)\n",
    "\n",
    "\n",
    "Given only this information, it's impossible for us to guess whether the green pixel matches with the pixels at location 3, 5 or 7.  \n",
    "\n",
    "If however I was to give you more context, i.e. a block of say 3x3 pixels, would this make things simpler? \n",
    "\n",
    "![Own work](../images/dispairity_block_julia/block_match.png)\n",
    "\n",
    "In this case, there is an unambiguous answer, which is the principle behind block-matching. \n",
    "\n"
   ]
  },
  {
   "attachments": {},
   "cell_type": "markdown",
   "id": "d9850806",
   "metadata": {},
   "source": [
    "To confirm our idea that more context results in better matches, we can take a quick look at a row of pixels: "
   ]
  },
  {
   "cell_type": "code",
   "execution_count": null,
   "id": "7fe1b02e",
   "metadata": {},
   "outputs": [],
   "source": [
    "max_disp = 100\n",
    "block_size = 0\n",
    "i = 100\n",
    "j = 220\n",
    "test_row = tsukuba_left_rgb[i-block_size:i+block_size, j-block_size:j+max_disp];\n",
    "test_block = tsukuba_right_rgb[i-block_size:i+block_size, j-block_size:j+block_size];\n",
    "test_block"
   ]
  },
  {
   "attachments": {},
   "cell_type": "markdown",
   "id": "58d224d0",
   "metadata": {},
   "source": [
    "Given the pixel above, where in the row below do you think this pixel matches?  \n",
    "You would guess somewhere in the orange part on the left right? But which pixel exactly is almost impossible to say. "
   ]
  },
  {
   "cell_type": "code",
   "execution_count": null,
   "id": "b2253616-58ef-4f6d-b5be-0ddc76e95600",
   "metadata": {},
   "outputs": [],
   "source": [
    "test_row"
   ]
  },
  {
   "attachments": {},
   "cell_type": "markdown",
   "id": "e6ca28df",
   "metadata": {},
   "source": [
    "If we now take a block with more context: "
   ]
  },
  {
   "cell_type": "code",
   "execution_count": null,
   "id": "0fcca6b9",
   "metadata": {},
   "outputs": [],
   "source": [
    "block_size = 5\n",
    "test_row = tsukuba_left_rgb[i-block_size:i+block_size, j-block_size:j+max_disp];\n",
    "test_block = tsukuba_right_rgb[i-block_size:i+block_size, j-block_size:j+block_size];\n",
    "test_block"
   ]
  },
  {
   "attachments": {},
   "cell_type": "markdown",
   "id": "cb580ab2",
   "metadata": {},
   "source": [
    "And compare it to the row below, the location of the match becomes more obvious: "
   ]
  },
  {
   "cell_type": "code",
   "execution_count": null,
   "id": "63f6de84",
   "metadata": {},
   "outputs": [],
   "source": [
    "test_row"
   ]
  },
  {
   "attachments": {},
   "cell_type": "markdown",
   "id": "0f0284fb",
   "metadata": {},
   "source": [
    "Calculating the difference metric for each point with different block sizes, we can clearly see that for low block sizes, the lowest metric value is ambiguous, while for larger block sizes it becomes more clear where exactly the best match is: "
   ]
  },
  {
   "cell_type": "code",
   "execution_count": null,
   "id": "34add3c8",
   "metadata": {},
   "outputs": [],
   "source": [
    "sum_squared_difference_rgb_block = (x, y) -> sum((x - y).^2)\n",
    "\n",
    "function smallest_block_diff(block, row, metric, block_size)\n",
    "\n",
    "    view_length = size(row)[3]\n",
    "    disparity_candidates = zeros(view_length - 2*block_size)\n",
    "\n",
    "    for i in range(block_size + 1, view_length - block_size )\n",
    "        \n",
    "        disparity_candidates[i-block_size] = metric(block, row[:, :, i-block_size:i+block_size])\n",
    "    end\n",
    "    disparity_candidates \n",
    "\n",
    "end\n",
    "\n",
    "p1 = plot()\n",
    "for b in [0, 2, 4]\n",
    "    block_size = b\n",
    "    i = 100\n",
    "    j = 220\n",
    "    max_disp = 100\n",
    "    test_row = tsukuba_left_rgb[i-block_size:i+block_size, j-block_size:j+max_disp];\n",
    "    test_block = tsukuba_right_rgb[i-block_size:i+block_size, j-block_size:j+block_size];\n",
    "    x = Float64.(channelview(test_block))\n",
    "    y = Float64.(channelview(test_row))\n",
    "    diffs = smallest_block_diff(x, y, sum_squared_difference_rgb_block, block_size)\n",
    "\n",
    "    norm_diffs = (diffs .- minimum(diffs))./maximum(diffs)\n",
    "\n",
    "    plot!(p1, norm_diffs, label=\"Blocksize $block_size\", linewidth=2)\n",
    "\n",
    "end\n",
    "\n",
    "p1"
   ]
  },
  {
   "attachments": {},
   "cell_type": "markdown",
   "id": "f306c665-c136-4b30-81e0-fb1b1a199437",
   "metadata": {},
   "source": [
    "And now we are ready to define our block matching algorithm, much in the way we did our pixel matching algorithm: "
   ]
  },
  {
   "cell_type": "code",
   "execution_count": null,
   "id": "6463e4e4-7bd5-45e5-8185-bec3bb637021",
   "metadata": {},
   "outputs": [],
   "source": [
    "function block_match(left_image, right_image, block_size, metric, max_disp)\n",
    "\n",
    "    \n",
    "    num_rows = size(left_image)[2]\n",
    "    num_cols = size(left_image)[3]\n",
    "\n",
    "    disparity = zeros((num_rows, num_cols))\n",
    "    for i in range(block_size + 1, num_rows - block_size)\n",
    "        for j in range(block_size + 1, num_cols - block_size)\n",
    "            terminator = min(j+max_disp, num_cols)\n",
    "\n",
    "            row_block_index = i-block_size:i+block_size\n",
    "            col_block_index = j-block_size:j+block_size\n",
    "            \n",
    "            block = right_image[:, row_block_index, col_block_index]\n",
    "            row = left_image[:, row_block_index, j-block_size:terminator]\n",
    "\n",
    "            disparity_candidates = smallest_block_diff(block, row, metric, block_size)\n",
    "\n",
    "            disparity[i, j] = max(argmin(disparity_candidates) -1, 1)\n",
    "        end\n",
    "    end\n",
    "\n",
    "    disparity\n",
    "end"
   ]
  },
  {
   "attachments": {},
   "cell_type": "markdown",
   "id": "e596c0c3",
   "metadata": {},
   "source": [
    "Let's see how this does on the full image in comparison to the pixel matching: "
   ]
  },
  {
   "cell_type": "code",
   "execution_count": null,
   "id": "79c2fdbc-b9b7-49c4-a79a-73fbb908005c",
   "metadata": {},
   "outputs": [],
   "source": [
    "tsukuba_disparity_rgb = block_match(tsukuba_left_rgb_float, tsukuba_right_rgb_float, 2,  sum_squared_difference_rgb_block, 20);\n",
    "Gray.(tsukuba_disparity_rgb / max_plot_disp)"
   ]
  },
  {
   "attachments": {},
   "cell_type": "markdown",
   "id": "5e293e30",
   "metadata": {},
   "source": [
    "Now we are getting somewhere! Compared to the earlier results we can now start making out the depth of the separate objects like the lamp, bust and camera. \n",
    "\n",
    "There are still a few things we could do to improve our simple algorithm (like only accepting matches that have below a certain score for the metric), but I will leave those as an exercise to the reader. \n",
    "\n"
   ]
  },
  {
   "attachments": {},
   "cell_type": "markdown",
   "id": "a12799bb",
   "metadata": {},
   "source": [
    "## Conclusions\n",
    "\n",
    "Above we went through a basic introduction to stereo vision and disparity, and built a bare-bones block matching algorithm from scratch.   \n",
    "\n",
    "The above is pretty far away from the state of the art, and there are many more advanced methods for calculating disparity, ranging from relatively simple methods like block matching to Deep Learning methods. "
   ]
  },
  {
   "attachments": {},
   "cell_type": "markdown",
   "id": "8aa6d8ae",
   "metadata": {},
   "source": [
    "## Further reading\n",
    "\n",
    "Below are some posts/guides I found informative: \n",
    "\n",
    "* [Introduction to Epipolar Geometry and Stereo Vision](https://learnopencv.com/introduction-to-epipolar-geometry-and-stereo-vision/)  \n",
    "* [Stereo Vision: Depth Estimation between object and camera](https://medium.com/analytics-vidhya/distance-estimation-cf2f2fd709d8)  \n",
    "* [Depth Map from Stereo Images](https://docs.opencv.org/4.x/dd/d53/tutorial_py_depthmap.html)  \n",
    "\n",
    "\n"
   ]
  }
 ],
 "metadata": {
  "language_info": {
   "name": "python",
   "pygments_lexer": "ipython3"
  }
 },
 "nbformat": 4,
 "nbformat_minor": 5
}
