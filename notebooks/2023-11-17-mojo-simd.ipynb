{
 "cells": [
  {
   "cell_type": "markdown",
   "metadata": {},
   "source": [
    "---\n",
    "layout: post\n",
    "title: Mojo 0.5.0 and SIMD\n",
    "categories: [mojo]\n",
    "excerpt: The 0.5.0 update of Mojo and a bit of a dive into SIMD in Mojo. \n",
    "---"
   ]
  },
  {
   "cell_type": "markdown",
   "metadata": {},
   "source": [
    "Another month, another Mojo release!   \n",
    "It feel like every time I run into a missing feature in Mojo it gets added in the next version: In my first post I complained about a lack of file handling, which was then added soon after.   \n",
    "For version `0.4.0` I ran into the issue that you can't print Tensors, which has now been added in the `0.5.0` release. So this means Mojo has now unlocked everyone's favourite method of debugging: printing to stdout.   \n",
    "In addition to that, Tensors can now also be written to and read from files with `fromfile()` and `tofile()`.  \n",
    "\n",
    "There have also been a couple of updates to the SIMD type, which lead me to ask: How does the SIMD type work in Mojo? \n",
    "\n",
    "## The SIMD type in Mojo\n",
    "\n",
    "SIMD stands for `Single Instruction, Multiple Data`, i.e. applying the same operation to multiple pieces of data. One of the main goals of the Mojo language is to leverage the ability of modern hardware, both CPUs and GPUs, to execute SIMD operations.   \n",
    "\n",
    "There is no native SIMD support in Python, however Numpy does make this possible. \n",
    "\n",
    "**Note:** SIMD is not the same as concurrency, where you have several different threads running different instructions. SIMD is doing the same operation on different data. \n",
    "\n",
    "Generally, SIMD objects are initialized as `SIMD[datatype, size](values)`, so to create a SIMD object consisting of four 8-bit unsigned integers we would do: "
   ]
  },
  {
   "cell_type": "code",
   "execution_count": 1,
   "metadata": {},
   "outputs": [
    {
     "name": "stdout",
     "output_type": "stream",
     "text": [
      "[1, 2, 4, 8]\n"
     ]
    }
   ],
   "source": [
    "simd_4x_uint8 = SIMD[DType.uint8, 4](1, 2, 4, 8)\n",
    "print(simd_4x_uint8)"
   ]
  },
  {
   "cell_type": "markdown",
   "metadata": {},
   "source": [
    "And actually, SIMD is so central to Mojo that the builtin `Float32` type is actually just an alias for `SIMD[DType.float32, 1]`:"
   ]
  },
  {
   "cell_type": "code",
   "execution_count": 71,
   "metadata": {},
   "outputs": [
    {
     "name": "stdout",
     "output_type": "stream",
     "text": [
      "float32\n",
      "float32\n"
     ]
    }
   ],
   "source": [
    "let x: Float32 = 10.\n",
    "print(x.type)\n",
    "\n",
    "let y = SIMD[DType.float32, 1](10.)\n",
    "print(y.type)\n"
   ]
  },
  {
   "cell_type": "markdown",
   "metadata": {},
   "source": [
    "Modern CPUs have SIMD registers, so lets use the `sys.info` package in Mojo to see what the register width on my computer is: "
   ]
  },
  {
   "cell_type": "code",
   "execution_count": 2,
   "metadata": {},
   "outputs": [
    {
     "name": "stdout",
     "output_type": "stream",
     "text": [
      "256\n"
     ]
    }
   ],
   "source": [
    "from sys.info import simdbitwidth, simdwidthof\n",
    "print(simdbitwidth())"
   ]
  },
  {
   "cell_type": "markdown",
   "metadata": {},
   "source": [
    "This means we can pack 256 bits of data into this register and efficiently vectorize an operation over it. Some CPUs support [AVX-512](https://en.wikipedia.org/wiki/AVX-512), with as the name suggests 512 bit SIMD registers. \n",
    "\n",
    "In my case, we'll have to live with 256 bits. \n",
    "This means in this register we can either put 4 64-bit values, 8 32-bit values 16 16-bit values, or even 32 8-bit values.  \n",
    "\n",
    "We can use the utility function `simdwidthof` to tell us how many 32-bit floating point numbers will fit in our register: "
   ]
  },
  {
   "cell_type": "code",
   "execution_count": 3,
   "metadata": {},
   "outputs": [
    {
     "name": "stdout",
     "output_type": "stream",
     "text": [
      "8\n"
     ]
    }
   ],
   "source": [
    "print(simdwidthof[DType.float32]())"
   ]
  },
  {
   "cell_type": "markdown",
   "metadata": {},
   "source": [
    "One of the new features in Mojo 0.5.0 is that SIMD types will default to the width of the architecture, meaning if we call: "
   ]
  },
  {
   "cell_type": "code",
   "execution_count": 4,
   "metadata": {},
   "outputs": [
    {
     "name": "stdout",
     "output_type": "stream",
     "text": [
      "8\n"
     ]
    }
   ],
   "source": [
    "simd_float_32 = SIMD[DType.float32]()\n",
    "print(len(simd_float_32))"
   ]
  },
  {
   "cell_type": "code",
   "execution_count": 5,
   "metadata": {},
   "outputs": [
    {
     "name": "stdout",
     "output_type": "stream",
     "text": [
      "32\n"
     ]
    }
   ],
   "source": [
    "simd_int_8 = SIMD[DType.int8]()\n",
    "print(len(simd_int_8))"
   ]
  },
  {
   "cell_type": "markdown",
   "metadata": {},
   "source": [
    "Mojo will automatically pack 8 32-bit values, or 32 8-bit values int the register. \n",
    "\n",
    "This is equivalent to calling: "
   ]
  },
  {
   "cell_type": "code",
   "execution_count": 6,
   "metadata": {},
   "outputs": [],
   "source": [
    "SIMD[DType.float32, simdwidthof[DType.float32]()]"
   ]
  },
  {
   "cell_type": "markdown",
   "metadata": {},
   "source": [
    "## SIMD operations\n",
    "\n",
    "Operations over SIMD types are quite intuitive. \n",
    "Let's try adding two SIMD objects together: "
   ]
  },
  {
   "cell_type": "code",
   "execution_count": 7,
   "metadata": {},
   "outputs": [],
   "source": [
    "simd_a = SIMD[DType.float32, 8](1.0)\n",
    "simd_b = SIMD[DType.float32, 8](2.0)"
   ]
  },
  {
   "cell_type": "code",
   "execution_count": 8,
   "metadata": {},
   "outputs": [
    {
     "name": "stdout",
     "output_type": "stream",
     "text": [
      "[3.0, 3.0, 3.0, 3.0, 3.0, 3.0, 3.0, 3.0]\n"
     ]
    }
   ],
   "source": [
    "print(simd_a + simd_b)"
   ]
  },
  {
   "cell_type": "markdown",
   "metadata": {},
   "source": [
    "Additionally, since the version 0.5.0, we can also concatenate SIMD objects with `.join()`:"
   ]
  },
  {
   "cell_type": "code",
   "execution_count": 9,
   "metadata": {},
   "outputs": [
    {
     "name": "stdout",
     "output_type": "stream",
     "text": [
      "[1.0, 1.0, 1.0, 1.0, 1.0, 1.0, 1.0, 1.0, 2.0, 2.0, 2.0, 2.0, 2.0, 2.0, 2.0, 2.0]\n"
     ]
    }
   ],
   "source": [
    "print(simd_a.join(simd_b))"
   ]
  },
  {
   "cell_type": "markdown",
   "metadata": {},
   "source": [
    "Operations applied to a SIMD object will be applied element-wise to the data in it, if the function is set up to handle this: "
   ]
  },
  {
   "cell_type": "code",
   "execution_count": 72,
   "metadata": {},
   "outputs": [],
   "source": [
    "from math import sqrt"
   ]
  },
  {
   "cell_type": "code",
   "execution_count": 73,
   "metadata": {},
   "outputs": [
    {
     "name": "stdout",
     "output_type": "stream",
     "text": [
      "[2, 4, 7, 12]\n"
     ]
    }
   ],
   "source": [
    "simd_c = SIMD[DType.int32, 4](4, 16, 49, 144)\n",
    "simd_c_sqrt = sqrt(simd_c)\n",
    "print(simd_c_sqrt)"
   ]
  },
  {
   "cell_type": "markdown",
   "metadata": {},
   "source": [
    "As far as I can tell, this doesn't just work automatically. \n",
    "If I define a function as: "
   ]
  },
  {
   "cell_type": "code",
   "execution_count": 83,
   "metadata": {},
   "outputs": [],
   "source": [
    "fn single_add_two(a: Float32) -> Float32:\n",
    "    return a + 2.0"
   ]
  },
  {
   "cell_type": "markdown",
   "metadata": {},
   "source": [
    "Then applying it to a single floating point number works as expected: "
   ]
  },
  {
   "cell_type": "code",
   "execution_count": 84,
   "metadata": {},
   "outputs": [
    {
     "name": "stdout",
     "output_type": "stream",
     "text": [
      "4.0\n"
     ]
    }
   ],
   "source": [
    "print(single_add_two(2.0))"
   ]
  },
  {
   "cell_type": "markdown",
   "metadata": {},
   "source": [
    "But trying this on a SIMD object does not: "
   ]
  },
  {
   "cell_type": "code",
   "execution_count": 85,
   "metadata": {},
   "outputs": [
    {
     "name": "stderr",
     "output_type": "stream",
     "text": [
      "error: \u001b[0;1;31m\u001b[1mExpression [85]:1:21: \u001b[0m\u001b[1minvalid call to 'single_add_two': argument #0 cannot be converted from 'SIMD[f32, 8]' to 'SIMD[f32, 1]'\n",
      "\u001b[0mprint(single_add_two(simd_a))\n",
      "\u001b[0;1;32m      ~~~~~~~~~~~~~~^~~~~~~~\n",
      "\u001b[0m\u001b[0m\n",
      "\u001b[0;1;30m\u001b[1mExpression [83]:1:1: \u001b[0m\u001b[1mfunction declared here\n",
      "\u001b[0mfn single_add_two(a: Float32) -> Float32:\n",
      "\u001b[0;1;32m^\n",
      "\u001b[0m\u001b[0m\n",
      "expression failed to parse (no further compiler diagnostics)"
     ]
    }
   ],
   "source": [
    "print(single_add_two(simd_a))"
   ]
  },
  {
   "cell_type": "markdown",
   "metadata": {},
   "source": [
    "However, if I define "
   ]
  },
  {
   "cell_type": "code",
   "execution_count": 86,
   "metadata": {},
   "outputs": [],
   "source": [
    "fn simd_add_two[simd_width: Int](a: SIMD[DType.float32, simd_width]) -> SIMD[DType.float32, simd_width]:\n",
    "    return a + 2.0"
   ]
  },
  {
   "cell_type": "markdown",
   "metadata": {},
   "source": [
    "Then (with the additional specification of the parameter `simd_width`), it will apply the function to all the values: "
   ]
  },
  {
   "cell_type": "code",
   "execution_count": 92,
   "metadata": {},
   "outputs": [
    {
     "name": "stdout",
     "output_type": "stream",
     "text": [
      "[3.0, 3.0, 3.0, 3.0, 3.0, 3.0, 3.0, 3.0]\n"
     ]
    }
   ],
   "source": [
    "simd_ones = SIMD[DType.float32, 8](1.0)\n",
    "print(simd_add_two(simd_ones))"
   ]
  },
  {
   "cell_type": "code",
   "execution_count": null,
   "metadata": {},
   "outputs": [],
   "source": []
  }
 ],
 "metadata": {
  "kernelspec": {
   "display_name": "Mojo",
   "language": "mojo",
   "name": "mojo-jupyter-kernel"
  },
  "language_info": {
   "codemirror_mode": {
    "name": "mojo"
   },
   "file_extension": ".mojo",
   "mimetype": "text/x-mojo",
   "name": "mojo"
  }
 },
 "nbformat": 4,
 "nbformat_minor": 2
}
