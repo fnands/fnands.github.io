{
 "cells": [
  {
   "cell_type": "markdown",
   "id": "1cd2273c",
   "metadata": {},
   "source": [
    "---\n",
    "layout: post\n",
    "title: Parameters in Mojo\n",
    "categories: [mojo]\n",
    "excerpt: The 0.4.0 update of Mojo and parameterization. \n",
    "---"
   ]
  },
  {
   "cell_type": "markdown",
   "id": "14378347",
   "metadata": {},
   "source": [
    "As Mojo is an extremely new language I want to keep track of the development, and try to learn the language as it evolves.  \n",
    "I had a first look at version 0.2.1 of the language in a [blog post](https://fnands.com/mojo-advent-of-code/) a few weeks back,\n",
    "and while on vacation I decided I should probably try and write a blog post every time the Modular team releases a new Mojo update (at least every minor update, not patches).  \n",
    "\n",
    "To my surprise, in the two weeks I was offline the Modular team managed to do two minor releases, so I'll jump straight to [version 0.4.0](https://docs.modular.com/mojo/changelog.html#v0.4.0-2023-10-05).\n",
    "\n",
    "## Quick overview\n",
    "\n",
    "One of the issues I ran into in my last post was due to the fact that Mojo had no native file handling, and I had to invoke Python just to open a simple file. But this has been fixed now, and Mojo now has a very Pythonic way of opening files: "
   ]
  },
  {
   "cell_type": "code",
   "execution_count": 63,
   "id": "677a129f",
   "metadata": {},
   "outputs": [
    {
     "name": "stdout",
     "output_type": "stream",
     "text": [
      "This file\n",
      "has two lines\n"
     ]
    }
   ],
   "source": [
    "with open(\"example.txt\", \"r\") as f:\n",
    "    print(f.read())"
   ]
  },
  {
   "cell_type": "markdown",
   "id": "0a85442f",
   "metadata": {},
   "source": [
    "Scanning the changelog, version 0.3.0 seems to bring changes mostly related to supporting keyword arguments, while 0.4.0 seems to mostly be related to how parameters are handled, e.g. adding default parameters. \n",
    "\n",
    "This brings up an interesting point:\n",
    "What exactly are parameters in Mojo?  \n",
    "\n",
    "## Parameters in Mojo\n",
    "\n",
    "When searching for the definition of parameters vs. arguments in Python, I get: \n",
    "> A parameter is the variable listed inside the parentheses in the function definition.   \n",
    "An argument is the value that are sent to the function when it is called.\n",
    "\n",
    "I.e. in Python it is the difference between the name in the function/method definition, vs. the actual data passed.  \n",
    "To be honest, I have never heard anyone really making this distinction.   \n",
    "\n",
    "In Mojo however takes a different route here and makes a stronger distinction between parameter and argument, as the following lines from the Mojo documentation shows:  \n",
    "\n",
    "> Python developers use the words “arguments” and “parameters” fairly interchangeably for “things that are passed into functions.” We decided to reclaim “parameter” and “parameter expression” to represent a compile-time value in Mojo, and continue to use “argument” and “expression” to refer to runtime values. This allows us to align around words like “parameterized” and “parametric” for compile-time metaprogramming. \n",
    "\n",
    "In Mojo, arguments are denoted by round brackets like in Python, parameter values are denoted by square brackets. \n",
    "\n",
    "So now we can define: "
   ]
  },
  {
   "cell_type": "code",
   "execution_count": 64,
   "id": "8748f451",
   "metadata": {},
   "outputs": [],
   "source": [
    "fn foo[parameter: Int](argument: Int) -> Int:\n",
    "    return parameter + argument"
   ]
  },
  {
   "cell_type": "markdown",
   "id": "23efa70f",
   "metadata": {},
   "source": [
    "and call it as: "
   ]
  },
  {
   "cell_type": "code",
   "execution_count": 65,
   "id": "7b080647",
   "metadata": {},
   "outputs": [
    {
     "name": "stdout",
     "output_type": "stream",
     "text": [
      "15\n"
     ]
    }
   ],
   "source": [
    "print(foo[10](5))"
   ]
  },
  {
   "cell_type": "markdown",
   "id": "8a19640d",
   "metadata": {},
   "source": [
    "So the obvious question is: *why*?   \n",
    "Why separate arguments and parameters when they seem to do the same thing? \n",
    "\n",
    "The above statement worked because we are calling it with a fixed parameter value that is known at compile time.   \n",
    "Let's try and pass a variable instead: "
   ]
  },
  {
   "cell_type": "code",
   "execution_count": 66,
   "id": "61871926",
   "metadata": {},
   "outputs": [
    {
     "name": "stderr",
     "output_type": "stream",
     "text": [
      "error: \u001b[0;1;31m\u001b[1mExpression [66]:2:15: \u001b[0m\u001b[1mcannot use a dynamic value in call parameter\n",
      "\u001b[0m    print(foo[i](5))\n",
      "\u001b[0;1;32m              ^\n",
      "\u001b[0m\u001b[0m\n",
      "expression failed to parse (no further compiler diagnostics)"
     ]
    }
   ],
   "source": [
    "for i in range(5):\n",
    "    print(foo[i](5))"
   ]
  },
  {
   "cell_type": "markdown",
   "id": "315a15c2",
   "metadata": {},
   "source": [
    "We get an error.   \n",
    "Parameter values must be known at compile time, while argument values can be passed at runtime.   \n",
    "So passing the variable to the argument will work: "
   ]
  },
  {
   "cell_type": "code",
   "execution_count": 67,
   "id": "707996c6",
   "metadata": {},
   "outputs": [
    {
     "name": "stdout",
     "output_type": "stream",
     "text": [
      "10\n",
      "11\n",
      "12\n",
      "13\n",
      "14\n"
     ]
    }
   ],
   "source": [
    "for i in range(5):\n",
    "    print(foo[10](i))"
   ]
  },
  {
   "cell_type": "markdown",
   "id": "2f50b195",
   "metadata": {},
   "source": [
    "This is another tool one can use in Mojo for optimization: in Python, all arguments are evaluated at runtime, while Mojo adds the option of adding values that are known at compile time as parameters.   \n",
    "\n",
    "This might be useful in cases where you have some generic version of a function that you might use several versions of.  \n",
    "\n",
    "As an example, let's write a sliding window summation function that can take different window sizes as parameters:    "
   ]
  },
  {
   "cell_type": "code",
   "execution_count": 68,
   "id": "355f2e09",
   "metadata": {},
   "outputs": [],
   "source": [
    "from random import rand\n",
    "from tensor import Tensor, TensorSpec, TensorShape\n",
    "\n",
    "fn sliding_sum[window_size: Int](data: Tensor[DType.float32]) -> Tensor[DType.float32]:\n",
    "    \n",
    "    let contracted_size: Int = data.shape()[0] - window_size\n",
    "\n",
    "    let out_spec = TensorSpec(DType.float32, contracted_size)\n",
    "    var out_tensor = Tensor[DType.float32](out_spec)\n",
    "\n",
    "    for i in range(contracted_size):\n",
    "        out_tensor[i] = 0\n",
    "        for j in range(window_size):\n",
    "            out_tensor[i] += data[i + j]\n",
    "\n",
    "    return out_tensor"
   ]
  },
  {
   "cell_type": "markdown",
   "id": "8e01c26b",
   "metadata": {},
   "source": [
    "The above function takes a window size as a parameter, and a tensor as an argument.   \n",
    "The function will iterate over the tensor, and add all values in a sliding window of size `window_size`.\n",
    "\n",
    "As is often the case when creating a convolutional neural network, the size of the kernel is known at compile time, but the data is unknown, allowing the compiler to optimize parts of the operation that are known ahead of time. This means we can define a generic version of the function once, and then still have compiled version of the specific functions we want.    \n",
    "\n",
    "Let's define a function that calls two versions of the summation: "
   ]
  },
  {
   "cell_type": "code",
   "execution_count": 69,
   "id": "d9515777",
   "metadata": {},
   "outputs": [],
   "source": [
    "fn sum_my_tensor(data: Tensor[DType.float32]) -> Tensor[DType.float32]:\n",
    "\n",
    "    let summed_by_3 = sliding_sum[3](data)\n",
    "    let summed_by_5 = sliding_sum[5](summed_by_3)\n",
    "\n",
    "    return summed_by_5"
   ]
  },
  {
   "cell_type": "markdown",
   "id": "967c8767",
   "metadata": {},
   "source": [
    "And let's test it:"
   ]
  },
  {
   "cell_type": "code",
   "execution_count": 70,
   "id": "f91dc4ed",
   "metadata": {},
   "outputs": [
    {
     "name": "stdout",
     "output_type": "stream",
     "text": [
      "2\n"
     ]
    }
   ],
   "source": [
    "let random_tensor = rand[DType.float32](10)\n",
    "print(sum_my_tensor(random_tensor).shape()[0])\n"
   ]
  },
  {
   "cell_type": "markdown",
   "id": "02e0edb6",
   "metadata": {},
   "source": [
    "I haven't yet found an elegant way to print tensors in Mojo. In Python/Pytorch, you can just call `print(tensor)` to see all the values in a tensor. In Mojo this results in an error.  "
   ]
  },
  {
   "cell_type": "code",
   "execution_count": 71,
   "id": "a5b58f9b",
   "metadata": {},
   "outputs": [
    {
     "name": "stdout",
     "output_type": "stream",
     "text": [
      "0.014950568787753582\n",
      "0.64297890663146973\n",
      "0.91784769296646118\n",
      "0.97008669376373291\n",
      "0.84397536516189575\n",
      "0.45575159788131714\n",
      "0.022083699703216553\n",
      "0.70694994926452637\n",
      "0.43663844466209412\n",
      "0.75171011686325073\n"
     ]
    }
   ],
   "source": [
    "for i in range(random_tensor.shape()[0]):\n",
    "    print(random_tensor[i])"
   ]
  },
  {
   "cell_type": "code",
   "execution_count": 72,
   "id": "8878d6f3",
   "metadata": {},
   "outputs": [
    {
     "name": "stdout",
     "output_type": "stream",
     "text": [
      "1.5757771730422974\n",
      "2.5309133529663086\n",
      "2.7319097518920898\n",
      "2.2698137760162354\n",
      "1.3218107223510742\n",
      "1.1847852468490601\n",
      "1.1656720638275146\n"
     ]
    }
   ],
   "source": [
    "summed_by_3 = sliding_sum[3](random_tensor)\n",
    "for i in range(summed_by_3.shape()[0]):\n",
    "    print(summed_by_3[i])"
   ]
  },
  {
   "cell_type": "code",
   "execution_count": 73,
   "id": "3806defd",
   "metadata": {},
   "outputs": [
    {
     "name": "stdout",
     "output_type": "stream",
     "text": [
      "10.430224418640137\n",
      "10.03923225402832\n"
     ]
    }
   ],
   "source": [
    "summed_by_5 = sliding_sum[5](summed_by_3)\n",
    "for i in range(summed_by_5.shape()[0]):\n",
    "    print(summed_by_5[i])"
   ]
  },
  {
   "cell_type": "markdown",
   "id": "6f1ca320",
   "metadata": {},
   "source": [
    "## Conclusions\n",
    "\n",
    "I read a [tweet by Mark Tenenholtz recently](https://x.com/marktenenholtz/status/1716496642323423439) that rang true: \n",
    "\n",
    "<blockquote class=\"twitter-tweet\"><p lang=\"en\" dir=\"ltr\">Writing a lot of Mojo code and it feels like writing C on hard mode.<br><br>No dict-like structures, file IO is super rudimentary, docs are very sparse, etc.<br><br>It’s actually very fulfilling, though.</p>&mdash; Mark Tenenholtz (@marktenenholtz) <a href=\"https://twitter.com/marktenenholtz/status/1716496642323423439?ref_src=twsrc%5Etfw\">October 23, 2023</a></blockquote> <script async src=\"https://platform.twitter.com/widgets.js\" charset=\"utf-8\"></script>\n",
    "\n",
    "As pointed out in the replies, even asking ChatGPT doesn't get you very far as the language was released after the current training cut-off date (coupled with the fact that there is no corpus of StackOverflow posts to train on anyway). "
   ]
  },
  {
   "cell_type": "markdown",
   "id": "f4ea7f74",
   "metadata": {},
   "source": []
  }
 ],
 "metadata": {
  "kernelspec": {
   "display_name": "Mojo",
   "language": "mojo",
   "name": "mojo-jupyter-kernel"
  },
  "language_info": {
   "codemirror_mode": {
    "name": "mojo"
   },
   "file_extension": ".mojo",
   "mimetype": "text/x-mojo",
   "name": "mojo"
  }
 },
 "nbformat": 4,
 "nbformat_minor": 5
}
